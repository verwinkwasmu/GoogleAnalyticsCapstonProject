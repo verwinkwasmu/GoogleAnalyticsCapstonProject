{
 "cells": [
  {
   "cell_type": "markdown",
   "id": "dce0abe7",
   "metadata": {},
   "source": [
    "# Google Data Analytics Capstone Project\n",
    "## Analysing Data based on FitBit User - Product relationship to provide data-driven recommendations to improve the Bellabeat's product."
   ]
  },
  {
   "cell_type": "markdown",
   "id": "7d4a07de",
   "metadata": {},
   "source": [
    "# Phase 1 - Ask\n",
    "## What is the problem that I am trying to solve? \n",
    "<li>Analyze smart device usage data in order to gain insight into how consumers use non-Bellabeat smart devices</li>\n",
    "<li>Using this information, create high level recommendations for how these trends can inform Bellabeat marketing strategy</li>"
   ]
  },
  {
   "cell_type": "markdown",
   "id": "1ce26dca",
   "metadata": {},
   "source": [
    "## Prepare packages and libraries"
   ]
  },
  {
   "cell_type": "code",
   "execution_count": 58,
   "id": "c7c1aaaa",
   "metadata": {},
   "outputs": [],
   "source": [
    "library(tidyverse)\n",
    "library(ggplot2)"
   ]
  },
  {
   "cell_type": "markdown",
   "id": "702a9d06",
   "metadata": {},
   "source": [
    "# Phase 2 - Prepare\n",
    "## Import the relevant datasets and bring forth an elementary view of the dataset"
   ]
  },
  {
   "cell_type": "code",
   "execution_count": 59,
   "id": "5f0be298",
   "metadata": {},
   "outputs": [
    {
     "name": "stderr",
     "output_type": "stream",
     "text": [
      "Parsed with column specification:\n",
      "cols(\n",
      "  Id = col_double(),\n",
      "  ActivityDate = col_character(),\n",
      "  TotalSteps = col_double(),\n",
      "  TotalDistance = col_double(),\n",
      "  TrackerDistance = col_double(),\n",
      "  LoggedActivitiesDistance = col_double(),\n",
      "  VeryActiveDistance = col_double(),\n",
      "  ModeratelyActiveDistance = col_double(),\n",
      "  LightActiveDistance = col_double(),\n",
      "  SedentaryActiveDistance = col_double(),\n",
      "  VeryActiveMinutes = col_double(),\n",
      "  FairlyActiveMinutes = col_double(),\n",
      "  LightlyActiveMinutes = col_double(),\n",
      "  SedentaryMinutes = col_double(),\n",
      "  Calories = col_double()\n",
      ")\n",
      "Parsed with column specification:\n",
      "cols(\n",
      "  Id = col_double(),\n",
      "  SleepDay = col_character(),\n",
      "  TotalSleepRecords = col_double(),\n",
      "  TotalMinutesAsleep = col_double(),\n",
      "  TotalTimeInBed = col_double()\n",
      ")\n",
      "Parsed with column specification:\n",
      "cols(\n",
      "  Id = col_double(),\n",
      "  Date = col_character(),\n",
      "  WeightKg = col_double(),\n",
      "  WeightPounds = col_double(),\n",
      "  Fat = col_double(),\n",
      "  BMI = col_double(),\n",
      "  IsManualReport = col_logical(),\n",
      "  LogId = col_double()\n",
      ")\n",
      "Parsed with column specification:\n",
      "cols(\n",
      "  Id = col_double(),\n",
      "  ActivityHour = col_character(),\n",
      "  TotalIntensity = col_double(),\n",
      "  AverageIntensity = col_double()\n",
      ")\n"
     ]
    }
   ],
   "source": [
    "activity <- read_csv(\"Fitabase Data 4.12.16-5.12.16/dailyActivity_merged.csv\")\n",
    "sleep <- read_csv(\"Fitabase Data 4.12.16-5.12.16/sleepDay_merged.csv\")\n",
    "weight <- read_csv(\"Fitabase Data 4.12.16-5.12.16/weightLogInfo_merged.csv\")\n",
    "hourly_intensity <- read_csv(\"Fitabase Data 4.12.16-5.12.16/hourlyIntensities_merged.csv\")"
   ]
  },
  {
   "cell_type": "markdown",
   "id": "66b709b6",
   "metadata": {},
   "source": [
    "### View Datasets"
   ]
  },
  {
   "cell_type": "code",
   "execution_count": 60,
   "id": "daaf9088",
   "metadata": {},
   "outputs": [
    {
     "data": {
      "text/html": [
       "<table>\n",
       "<thead><tr><th scope=col>Id</th><th scope=col>ActivityDate</th><th scope=col>TotalSteps</th><th scope=col>TotalDistance</th><th scope=col>TrackerDistance</th><th scope=col>LoggedActivitiesDistance</th><th scope=col>VeryActiveDistance</th><th scope=col>ModeratelyActiveDistance</th><th scope=col>LightActiveDistance</th><th scope=col>SedentaryActiveDistance</th><th scope=col>VeryActiveMinutes</th><th scope=col>FairlyActiveMinutes</th><th scope=col>LightlyActiveMinutes</th><th scope=col>SedentaryMinutes</th><th scope=col>Calories</th></tr></thead>\n",
       "<tbody>\n",
       "\t<tr><td>1503960366</td><td>4/12/2016 </td><td>13162     </td><td>8.50      </td><td>8.50      </td><td>0         </td><td>1.88      </td><td>0.55      </td><td>6.06      </td><td>0         </td><td>25        </td><td>13        </td><td>328       </td><td> 728      </td><td>1985      </td></tr>\n",
       "\t<tr><td>1503960366</td><td>4/13/2016 </td><td>10735     </td><td>6.97      </td><td>6.97      </td><td>0         </td><td>1.57      </td><td>0.69      </td><td>4.71      </td><td>0         </td><td>21        </td><td>19        </td><td>217       </td><td> 776      </td><td>1797      </td></tr>\n",
       "\t<tr><td>1503960366</td><td>4/14/2016 </td><td>10460     </td><td>6.74      </td><td>6.74      </td><td>0         </td><td>2.44      </td><td>0.40      </td><td>3.91      </td><td>0         </td><td>30        </td><td>11        </td><td>181       </td><td>1218      </td><td>1776      </td></tr>\n",
       "\t<tr><td>1503960366</td><td>4/15/2016 </td><td> 9762     </td><td>6.28      </td><td>6.28      </td><td>0         </td><td>2.14      </td><td>1.26      </td><td>2.83      </td><td>0         </td><td>29        </td><td>34        </td><td>209       </td><td> 726      </td><td>1745      </td></tr>\n",
       "\t<tr><td>1503960366</td><td>4/16/2016 </td><td>12669     </td><td>8.16      </td><td>8.16      </td><td>0         </td><td>2.71      </td><td>0.41      </td><td>5.04      </td><td>0         </td><td>36        </td><td>10        </td><td>221       </td><td> 773      </td><td>1863      </td></tr>\n",
       "\t<tr><td>1503960366</td><td>4/17/2016 </td><td> 9705     </td><td>6.48      </td><td>6.48      </td><td>0         </td><td>3.19      </td><td>0.78      </td><td>2.51      </td><td>0         </td><td>38        </td><td>20        </td><td>164       </td><td> 539      </td><td>1728      </td></tr>\n",
       "</tbody>\n",
       "</table>\n"
      ],
      "text/latex": [
       "\\begin{tabular}{r|lllllllllllllll}\n",
       " Id & ActivityDate & TotalSteps & TotalDistance & TrackerDistance & LoggedActivitiesDistance & VeryActiveDistance & ModeratelyActiveDistance & LightActiveDistance & SedentaryActiveDistance & VeryActiveMinutes & FairlyActiveMinutes & LightlyActiveMinutes & SedentaryMinutes & Calories\\\\\n",
       "\\hline\n",
       "\t 1503960366 & 4/12/2016  & 13162      & 8.50       & 8.50       & 0          & 1.88       & 0.55       & 6.06       & 0          & 25         & 13         & 328        &  728       & 1985      \\\\\n",
       "\t 1503960366 & 4/13/2016  & 10735      & 6.97       & 6.97       & 0          & 1.57       & 0.69       & 4.71       & 0          & 21         & 19         & 217        &  776       & 1797      \\\\\n",
       "\t 1503960366 & 4/14/2016  & 10460      & 6.74       & 6.74       & 0          & 2.44       & 0.40       & 3.91       & 0          & 30         & 11         & 181        & 1218       & 1776      \\\\\n",
       "\t 1503960366 & 4/15/2016  &  9762      & 6.28       & 6.28       & 0          & 2.14       & 1.26       & 2.83       & 0          & 29         & 34         & 209        &  726       & 1745      \\\\\n",
       "\t 1503960366 & 4/16/2016  & 12669      & 8.16       & 8.16       & 0          & 2.71       & 0.41       & 5.04       & 0          & 36         & 10         & 221        &  773       & 1863      \\\\\n",
       "\t 1503960366 & 4/17/2016  &  9705      & 6.48       & 6.48       & 0          & 3.19       & 0.78       & 2.51       & 0          & 38         & 20         & 164        &  539       & 1728      \\\\\n",
       "\\end{tabular}\n"
      ],
      "text/markdown": [
       "\n",
       "| Id | ActivityDate | TotalSteps | TotalDistance | TrackerDistance | LoggedActivitiesDistance | VeryActiveDistance | ModeratelyActiveDistance | LightActiveDistance | SedentaryActiveDistance | VeryActiveMinutes | FairlyActiveMinutes | LightlyActiveMinutes | SedentaryMinutes | Calories |\n",
       "|---|---|---|---|---|---|---|---|---|---|---|---|---|---|---|\n",
       "| 1503960366 | 4/12/2016  | 13162      | 8.50       | 8.50       | 0          | 1.88       | 0.55       | 6.06       | 0          | 25         | 13         | 328        |  728       | 1985       |\n",
       "| 1503960366 | 4/13/2016  | 10735      | 6.97       | 6.97       | 0          | 1.57       | 0.69       | 4.71       | 0          | 21         | 19         | 217        |  776       | 1797       |\n",
       "| 1503960366 | 4/14/2016  | 10460      | 6.74       | 6.74       | 0          | 2.44       | 0.40       | 3.91       | 0          | 30         | 11         | 181        | 1218       | 1776       |\n",
       "| 1503960366 | 4/15/2016  |  9762      | 6.28       | 6.28       | 0          | 2.14       | 1.26       | 2.83       | 0          | 29         | 34         | 209        |  726       | 1745       |\n",
       "| 1503960366 | 4/16/2016  | 12669      | 8.16       | 8.16       | 0          | 2.71       | 0.41       | 5.04       | 0          | 36         | 10         | 221        |  773       | 1863       |\n",
       "| 1503960366 | 4/17/2016  |  9705      | 6.48       | 6.48       | 0          | 3.19       | 0.78       | 2.51       | 0          | 38         | 20         | 164        |  539       | 1728       |\n",
       "\n"
      ],
      "text/plain": [
       "  Id         ActivityDate TotalSteps TotalDistance TrackerDistance\n",
       "1 1503960366 4/12/2016    13162      8.50          8.50           \n",
       "2 1503960366 4/13/2016    10735      6.97          6.97           \n",
       "3 1503960366 4/14/2016    10460      6.74          6.74           \n",
       "4 1503960366 4/15/2016     9762      6.28          6.28           \n",
       "5 1503960366 4/16/2016    12669      8.16          8.16           \n",
       "6 1503960366 4/17/2016     9705      6.48          6.48           \n",
       "  LoggedActivitiesDistance VeryActiveDistance ModeratelyActiveDistance\n",
       "1 0                        1.88               0.55                    \n",
       "2 0                        1.57               0.69                    \n",
       "3 0                        2.44               0.40                    \n",
       "4 0                        2.14               1.26                    \n",
       "5 0                        2.71               0.41                    \n",
       "6 0                        3.19               0.78                    \n",
       "  LightActiveDistance SedentaryActiveDistance VeryActiveMinutes\n",
       "1 6.06                0                       25               \n",
       "2 4.71                0                       21               \n",
       "3 3.91                0                       30               \n",
       "4 2.83                0                       29               \n",
       "5 5.04                0                       36               \n",
       "6 2.51                0                       38               \n",
       "  FairlyActiveMinutes LightlyActiveMinutes SedentaryMinutes Calories\n",
       "1 13                  328                   728             1985    \n",
       "2 19                  217                   776             1797    \n",
       "3 11                  181                  1218             1776    \n",
       "4 34                  209                   726             1745    \n",
       "5 10                  221                   773             1863    \n",
       "6 20                  164                   539             1728    "
      ]
     },
     "metadata": {},
     "output_type": "display_data"
    }
   ],
   "source": [
    "head(activity)"
   ]
  },
  {
   "cell_type": "code",
   "execution_count": 61,
   "id": "99285ce5",
   "metadata": {},
   "outputs": [
    {
     "data": {
      "text/html": [
       "<table>\n",
       "<thead><tr><th scope=col>Id</th><th scope=col>SleepDay</th><th scope=col>TotalSleepRecords</th><th scope=col>TotalMinutesAsleep</th><th scope=col>TotalTimeInBed</th></tr></thead>\n",
       "<tbody>\n",
       "\t<tr><td>1503960366           </td><td>4/12/2016 12:00:00 AM</td><td>1                    </td><td>327                  </td><td>346                  </td></tr>\n",
       "\t<tr><td>1503960366           </td><td>4/13/2016 12:00:00 AM</td><td>2                    </td><td>384                  </td><td>407                  </td></tr>\n",
       "\t<tr><td>1503960366           </td><td>4/15/2016 12:00:00 AM</td><td>1                    </td><td>412                  </td><td>442                  </td></tr>\n",
       "\t<tr><td>1503960366           </td><td>4/16/2016 12:00:00 AM</td><td>2                    </td><td>340                  </td><td>367                  </td></tr>\n",
       "\t<tr><td>1503960366           </td><td>4/17/2016 12:00:00 AM</td><td>1                    </td><td>700                  </td><td>712                  </td></tr>\n",
       "\t<tr><td>1503960366           </td><td>4/19/2016 12:00:00 AM</td><td>1                    </td><td>304                  </td><td>320                  </td></tr>\n",
       "</tbody>\n",
       "</table>\n"
      ],
      "text/latex": [
       "\\begin{tabular}{r|lllll}\n",
       " Id & SleepDay & TotalSleepRecords & TotalMinutesAsleep & TotalTimeInBed\\\\\n",
       "\\hline\n",
       "\t 1503960366            & 4/12/2016 12:00:00 AM & 1                     & 327                   & 346                  \\\\\n",
       "\t 1503960366            & 4/13/2016 12:00:00 AM & 2                     & 384                   & 407                  \\\\\n",
       "\t 1503960366            & 4/15/2016 12:00:00 AM & 1                     & 412                   & 442                  \\\\\n",
       "\t 1503960366            & 4/16/2016 12:00:00 AM & 2                     & 340                   & 367                  \\\\\n",
       "\t 1503960366            & 4/17/2016 12:00:00 AM & 1                     & 700                   & 712                  \\\\\n",
       "\t 1503960366            & 4/19/2016 12:00:00 AM & 1                     & 304                   & 320                  \\\\\n",
       "\\end{tabular}\n"
      ],
      "text/markdown": [
       "\n",
       "| Id | SleepDay | TotalSleepRecords | TotalMinutesAsleep | TotalTimeInBed |\n",
       "|---|---|---|---|---|\n",
       "| 1503960366            | 4/12/2016 12:00:00 AM | 1                     | 327                   | 346                   |\n",
       "| 1503960366            | 4/13/2016 12:00:00 AM | 2                     | 384                   | 407                   |\n",
       "| 1503960366            | 4/15/2016 12:00:00 AM | 1                     | 412                   | 442                   |\n",
       "| 1503960366            | 4/16/2016 12:00:00 AM | 2                     | 340                   | 367                   |\n",
       "| 1503960366            | 4/17/2016 12:00:00 AM | 1                     | 700                   | 712                   |\n",
       "| 1503960366            | 4/19/2016 12:00:00 AM | 1                     | 304                   | 320                   |\n",
       "\n"
      ],
      "text/plain": [
       "  Id         SleepDay              TotalSleepRecords TotalMinutesAsleep\n",
       "1 1503960366 4/12/2016 12:00:00 AM 1                 327               \n",
       "2 1503960366 4/13/2016 12:00:00 AM 2                 384               \n",
       "3 1503960366 4/15/2016 12:00:00 AM 1                 412               \n",
       "4 1503960366 4/16/2016 12:00:00 AM 2                 340               \n",
       "5 1503960366 4/17/2016 12:00:00 AM 1                 700               \n",
       "6 1503960366 4/19/2016 12:00:00 AM 1                 304               \n",
       "  TotalTimeInBed\n",
       "1 346           \n",
       "2 407           \n",
       "3 442           \n",
       "4 367           \n",
       "5 712           \n",
       "6 320           "
      ]
     },
     "metadata": {},
     "output_type": "display_data"
    }
   ],
   "source": [
    "head(sleep)"
   ]
  },
  {
   "cell_type": "code",
   "execution_count": 62,
   "id": "50ca26aa",
   "metadata": {},
   "outputs": [
    {
     "data": {
      "text/html": [
       "<table>\n",
       "<thead><tr><th scope=col>Id</th><th scope=col>Date</th><th scope=col>WeightKg</th><th scope=col>WeightPounds</th><th scope=col>Fat</th><th scope=col>BMI</th><th scope=col>IsManualReport</th><th scope=col>LogId</th></tr></thead>\n",
       "<tbody>\n",
       "\t<tr><td>1503960366           </td><td>5/2/2016 11:59:59 PM </td><td> 52.6                </td><td>115.9631             </td><td>22                   </td><td>22.65                </td><td> TRUE                </td><td>1.462234e+12         </td></tr>\n",
       "\t<tr><td>1503960366           </td><td>5/3/2016 11:59:59 PM </td><td> 52.6                </td><td>115.9631             </td><td>NA                   </td><td>22.65                </td><td> TRUE                </td><td>1.462320e+12         </td></tr>\n",
       "\t<tr><td>1927972279           </td><td>4/13/2016 1:08:52 AM </td><td>133.5                </td><td>294.3171             </td><td>NA                   </td><td>47.54                </td><td>FALSE                </td><td>1.460510e+12         </td></tr>\n",
       "\t<tr><td>2873212765           </td><td>4/21/2016 11:59:59 PM</td><td> 56.7                </td><td>125.0021             </td><td>NA                   </td><td>21.45                </td><td> TRUE                </td><td>1.461283e+12         </td></tr>\n",
       "\t<tr><td>2873212765           </td><td>5/12/2016 11:59:59 PM</td><td> 57.3                </td><td>126.3249             </td><td>NA                   </td><td>21.69                </td><td> TRUE                </td><td>1.463098e+12         </td></tr>\n",
       "\t<tr><td>4319703577           </td><td>4/17/2016 11:59:59 PM</td><td> 72.4                </td><td>159.6147             </td><td>25                   </td><td>27.45                </td><td> TRUE                </td><td>1.460938e+12         </td></tr>\n",
       "</tbody>\n",
       "</table>\n"
      ],
      "text/latex": [
       "\\begin{tabular}{r|llllllll}\n",
       " Id & Date & WeightKg & WeightPounds & Fat & BMI & IsManualReport & LogId\\\\\n",
       "\\hline\n",
       "\t 1503960366            & 5/2/2016 11:59:59 PM  &  52.6                 & 115.9631              & 22                    & 22.65                 &  TRUE                 & 1.462234e+12         \\\\\n",
       "\t 1503960366            & 5/3/2016 11:59:59 PM  &  52.6                 & 115.9631              & NA                    & 22.65                 &  TRUE                 & 1.462320e+12         \\\\\n",
       "\t 1927972279            & 4/13/2016 1:08:52 AM  & 133.5                 & 294.3171              & NA                    & 47.54                 & FALSE                 & 1.460510e+12         \\\\\n",
       "\t 2873212765            & 4/21/2016 11:59:59 PM &  56.7                 & 125.0021              & NA                    & 21.45                 &  TRUE                 & 1.461283e+12         \\\\\n",
       "\t 2873212765            & 5/12/2016 11:59:59 PM &  57.3                 & 126.3249              & NA                    & 21.69                 &  TRUE                 & 1.463098e+12         \\\\\n",
       "\t 4319703577            & 4/17/2016 11:59:59 PM &  72.4                 & 159.6147              & 25                    & 27.45                 &  TRUE                 & 1.460938e+12         \\\\\n",
       "\\end{tabular}\n"
      ],
      "text/markdown": [
       "\n",
       "| Id | Date | WeightKg | WeightPounds | Fat | BMI | IsManualReport | LogId |\n",
       "|---|---|---|---|---|---|---|---|\n",
       "| 1503960366            | 5/2/2016 11:59:59 PM  |  52.6                 | 115.9631              | 22                    | 22.65                 |  TRUE                 | 1.462234e+12          |\n",
       "| 1503960366            | 5/3/2016 11:59:59 PM  |  52.6                 | 115.9631              | NA                    | 22.65                 |  TRUE                 | 1.462320e+12          |\n",
       "| 1927972279            | 4/13/2016 1:08:52 AM  | 133.5                 | 294.3171              | NA                    | 47.54                 | FALSE                 | 1.460510e+12          |\n",
       "| 2873212765            | 4/21/2016 11:59:59 PM |  56.7                 | 125.0021              | NA                    | 21.45                 |  TRUE                 | 1.461283e+12          |\n",
       "| 2873212765            | 5/12/2016 11:59:59 PM |  57.3                 | 126.3249              | NA                    | 21.69                 |  TRUE                 | 1.463098e+12          |\n",
       "| 4319703577            | 4/17/2016 11:59:59 PM |  72.4                 | 159.6147              | 25                    | 27.45                 |  TRUE                 | 1.460938e+12          |\n",
       "\n"
      ],
      "text/plain": [
       "  Id         Date                  WeightKg WeightPounds Fat BMI  \n",
       "1 1503960366 5/2/2016 11:59:59 PM   52.6    115.9631     22  22.65\n",
       "2 1503960366 5/3/2016 11:59:59 PM   52.6    115.9631     NA  22.65\n",
       "3 1927972279 4/13/2016 1:08:52 AM  133.5    294.3171     NA  47.54\n",
       "4 2873212765 4/21/2016 11:59:59 PM  56.7    125.0021     NA  21.45\n",
       "5 2873212765 5/12/2016 11:59:59 PM  57.3    126.3249     NA  21.69\n",
       "6 4319703577 4/17/2016 11:59:59 PM  72.4    159.6147     25  27.45\n",
       "  IsManualReport LogId       \n",
       "1  TRUE          1.462234e+12\n",
       "2  TRUE          1.462320e+12\n",
       "3 FALSE          1.460510e+12\n",
       "4  TRUE          1.461283e+12\n",
       "5  TRUE          1.463098e+12\n",
       "6  TRUE          1.460938e+12"
      ]
     },
     "metadata": {},
     "output_type": "display_data"
    }
   ],
   "source": [
    "head(weight)"
   ]
  },
  {
   "cell_type": "code",
   "execution_count": 63,
   "id": "ddebe173",
   "metadata": {},
   "outputs": [
    {
     "data": {
      "text/html": [
       "<table>\n",
       "<thead><tr><th scope=col>Id</th><th scope=col>ActivityHour</th><th scope=col>TotalIntensity</th><th scope=col>AverageIntensity</th></tr></thead>\n",
       "<tbody>\n",
       "\t<tr><td>1503960366           </td><td>4/12/2016 12:00:00 AM</td><td>20                   </td><td>0.333333             </td></tr>\n",
       "\t<tr><td>1503960366           </td><td>4/12/2016 1:00:00 AM </td><td> 8                   </td><td>0.133333             </td></tr>\n",
       "\t<tr><td>1503960366           </td><td>4/12/2016 2:00:00 AM </td><td> 7                   </td><td>0.116667             </td></tr>\n",
       "\t<tr><td>1503960366           </td><td>4/12/2016 3:00:00 AM </td><td> 0                   </td><td>0.000000             </td></tr>\n",
       "\t<tr><td>1503960366           </td><td>4/12/2016 4:00:00 AM </td><td> 0                   </td><td>0.000000             </td></tr>\n",
       "\t<tr><td>1503960366           </td><td>4/12/2016 5:00:00 AM </td><td> 0                   </td><td>0.000000             </td></tr>\n",
       "</tbody>\n",
       "</table>\n"
      ],
      "text/latex": [
       "\\begin{tabular}{r|llll}\n",
       " Id & ActivityHour & TotalIntensity & AverageIntensity\\\\\n",
       "\\hline\n",
       "\t 1503960366            & 4/12/2016 12:00:00 AM & 20                    & 0.333333             \\\\\n",
       "\t 1503960366            & 4/12/2016 1:00:00 AM  &  8                    & 0.133333             \\\\\n",
       "\t 1503960366            & 4/12/2016 2:00:00 AM  &  7                    & 0.116667             \\\\\n",
       "\t 1503960366            & 4/12/2016 3:00:00 AM  &  0                    & 0.000000             \\\\\n",
       "\t 1503960366            & 4/12/2016 4:00:00 AM  &  0                    & 0.000000             \\\\\n",
       "\t 1503960366            & 4/12/2016 5:00:00 AM  &  0                    & 0.000000             \\\\\n",
       "\\end{tabular}\n"
      ],
      "text/markdown": [
       "\n",
       "| Id | ActivityHour | TotalIntensity | AverageIntensity |\n",
       "|---|---|---|---|\n",
       "| 1503960366            | 4/12/2016 12:00:00 AM | 20                    | 0.333333              |\n",
       "| 1503960366            | 4/12/2016 1:00:00 AM  |  8                    | 0.133333              |\n",
       "| 1503960366            | 4/12/2016 2:00:00 AM  |  7                    | 0.116667              |\n",
       "| 1503960366            | 4/12/2016 3:00:00 AM  |  0                    | 0.000000              |\n",
       "| 1503960366            | 4/12/2016 4:00:00 AM  |  0                    | 0.000000              |\n",
       "| 1503960366            | 4/12/2016 5:00:00 AM  |  0                    | 0.000000              |\n",
       "\n"
      ],
      "text/plain": [
       "  Id         ActivityHour          TotalIntensity AverageIntensity\n",
       "1 1503960366 4/12/2016 12:00:00 AM 20             0.333333        \n",
       "2 1503960366 4/12/2016 1:00:00 AM   8             0.133333        \n",
       "3 1503960366 4/12/2016 2:00:00 AM   7             0.116667        \n",
       "4 1503960366 4/12/2016 3:00:00 AM   0             0.000000        \n",
       "5 1503960366 4/12/2016 4:00:00 AM   0             0.000000        \n",
       "6 1503960366 4/12/2016 5:00:00 AM   0             0.000000        "
      ]
     },
     "metadata": {},
     "output_type": "display_data"
    }
   ],
   "source": [
    "head(hourly_intensity)"
   ]
  },
  {
   "cell_type": "markdown",
   "id": "dcfca771",
   "metadata": {},
   "source": [
    "# Phase 3 - Process\n",
    "## Understand the data and proceed with cleaning the data whenever necessary"
   ]
  },
  {
   "cell_type": "code",
   "execution_count": 64,
   "id": "2609aa5c",
   "metadata": {},
   "outputs": [
    {
     "name": "stdout",
     "output_type": "stream",
     "text": [
      "Observations: 940\n",
      "Variables: 15\n",
      "$ Id                       <dbl> 1503960366, 1503960366, 1503960366, 150396...\n",
      "$ ActivityDate             <chr> \"4/12/2016\", \"4/13/2016\", \"4/14/2016\", \"4/...\n",
      "$ TotalSteps               <dbl> 13162, 10735, 10460, 9762, 12669, 9705, 13...\n",
      "$ TotalDistance            <dbl> 8.50, 6.97, 6.74, 6.28, 8.16, 6.48, 8.59, ...\n",
      "$ TrackerDistance          <dbl> 8.50, 6.97, 6.74, 6.28, 8.16, 6.48, 8.59, ...\n",
      "$ LoggedActivitiesDistance <dbl> 0, 0, 0, 0, 0, 0, 0, 0, 0, 0, 0, 0, 0, 0, ...\n",
      "$ VeryActiveDistance       <dbl> 1.88, 1.57, 2.44, 2.14, 2.71, 3.19, 3.25, ...\n",
      "$ ModeratelyActiveDistance <dbl> 0.55, 0.69, 0.40, 1.26, 0.41, 0.78, 0.64, ...\n",
      "$ LightActiveDistance      <dbl> 6.06, 4.71, 3.91, 2.83, 5.04, 2.51, 4.71, ...\n",
      "$ SedentaryActiveDistance  <dbl> 0, 0, 0, 0, 0, 0, 0, 0, 0, 0, 0, 0, 0, 0, ...\n",
      "$ VeryActiveMinutes        <dbl> 25, 21, 30, 29, 36, 38, 42, 50, 28, 19, 66...\n",
      "$ FairlyActiveMinutes      <dbl> 13, 19, 11, 34, 10, 20, 16, 31, 12, 8, 27,...\n",
      "$ LightlyActiveMinutes     <dbl> 328, 217, 181, 209, 221, 164, 233, 264, 20...\n",
      "$ SedentaryMinutes         <dbl> 728, 776, 1218, 726, 773, 539, 1149, 775, ...\n",
      "$ Calories                 <dbl> 1985, 1797, 1776, 1745, 1863, 1728, 1921, ...\n"
     ]
    }
   ],
   "source": [
    "glimpse(activity)"
   ]
  },
  {
   "cell_type": "code",
   "execution_count": 65,
   "id": "82c392fc",
   "metadata": {},
   "outputs": [
    {
     "name": "stdout",
     "output_type": "stream",
     "text": [
      "Observations: 413\n",
      "Variables: 5\n",
      "$ Id                 <dbl> 1503960366, 1503960366, 1503960366, 1503960366, ...\n",
      "$ SleepDay           <chr> \"4/12/2016 12:00:00 AM\", \"4/13/2016 12:00:00 AM\"...\n",
      "$ TotalSleepRecords  <dbl> 1, 2, 1, 2, 1, 1, 1, 1, 1, 1, 1, 1, 1, 1, 1, 1, ...\n",
      "$ TotalMinutesAsleep <dbl> 327, 384, 412, 340, 700, 304, 360, 325, 361, 430...\n",
      "$ TotalTimeInBed     <dbl> 346, 407, 442, 367, 712, 320, 377, 364, 384, 449...\n"
     ]
    }
   ],
   "source": [
    "glimpse(sleep)"
   ]
  },
  {
   "cell_type": "code",
   "execution_count": 66,
   "id": "9256f3dc",
   "metadata": {},
   "outputs": [
    {
     "name": "stdout",
     "output_type": "stream",
     "text": [
      "Observations: 67\n",
      "Variables: 8\n",
      "$ Id             <dbl> 1503960366, 1503960366, 1927972279, 2873212765, 2873...\n",
      "$ Date           <chr> \"5/2/2016 11:59:59 PM\", \"5/3/2016 11:59:59 PM\", \"4/1...\n",
      "$ WeightKg       <dbl> 52.6, 52.6, 133.5, 56.7, 57.3, 72.4, 72.3, 69.7, 70....\n",
      "$ WeightPounds   <dbl> 115.9631, 115.9631, 294.3171, 125.0021, 126.3249, 15...\n",
      "$ Fat            <dbl> 22, NA, NA, NA, NA, 25, NA, NA, NA, NA, NA, NA, NA, ...\n",
      "$ BMI            <dbl> 22.65, 22.65, 47.54, 21.45, 21.69, 27.45, 27.38, 27....\n",
      "$ IsManualReport <lgl> TRUE, TRUE, FALSE, TRUE, TRUE, TRUE, TRUE, TRUE, TRU...\n",
      "$ LogId          <dbl> 1.462234e+12, 1.462320e+12, 1.460510e+12, 1.461283e+...\n"
     ]
    }
   ],
   "source": [
    "glimpse(weight)"
   ]
  },
  {
   "cell_type": "markdown",
   "id": "4a417f14",
   "metadata": {},
   "source": [
    "### Identified that there are some date time formatting issues, proceed to fix it"
   ]
  },
  {
   "cell_type": "code",
   "execution_count": 67,
   "id": "65bf0aa9",
   "metadata": {},
   "outputs": [],
   "source": [
    "# Fix date time formatting issues for activity & sleep\n",
    "\n",
    "# activity\n",
    "activity$ActivityDate=as.POSIXct(activity$ActivityDate, format=\"%m/%d/%Y\", tz=Sys.timezone())\n",
    "activity$date <- format(activity$ActivityDate, format = \"%m/%d/%y\")\n",
    "\n",
    "# sleep\n",
    "sleep$SleepDay=as.POSIXct(sleep$SleepDay, format=\"%m/%d/%Y %I:%M:%S %p\", tz=Sys.timezone())\n",
    "sleep$date <- format(sleep$SleepDay, format = \"%m/%d/%y\")\n",
    "\n",
    "# intensities\n",
    "hourly_intensity$ActivityHour=as.POSIXct(hourly_intensity$ActivityHour, format=\"%m/%d/%Y %I:%M:%S %p\", tz=Sys.timezone())\n",
    "hourly_intensity$time <- format(hourly_intensity$ActivityHour, format = \"%H:%M:%S\")\n",
    "hourly_intensity$date <- format(hourly_intensity$ActivityHour, format = \"%m/%d/%y\")"
   ]
  },
  {
   "cell_type": "code",
   "execution_count": 68,
   "id": "81f061e6",
   "metadata": {},
   "outputs": [
    {
     "data": {
      "text/html": [
       "<table>\n",
       "<thead><tr><th scope=col>Id</th><th scope=col>ActivityDate</th><th scope=col>TotalSteps</th><th scope=col>TotalDistance</th><th scope=col>TrackerDistance</th><th scope=col>LoggedActivitiesDistance</th><th scope=col>VeryActiveDistance</th><th scope=col>ModeratelyActiveDistance</th><th scope=col>LightActiveDistance</th><th scope=col>SedentaryActiveDistance</th><th scope=col>VeryActiveMinutes</th><th scope=col>FairlyActiveMinutes</th><th scope=col>LightlyActiveMinutes</th><th scope=col>SedentaryMinutes</th><th scope=col>Calories</th><th scope=col>date</th></tr></thead>\n",
       "<tbody>\n",
       "\t<tr><td>1503960366</td><td>2016-04-12</td><td>13162     </td><td>8.50      </td><td>8.50      </td><td>0         </td><td>1.88      </td><td>0.55      </td><td>6.06      </td><td>0         </td><td>25        </td><td>13        </td><td>328       </td><td> 728      </td><td>1985      </td><td>04/12/16  </td></tr>\n",
       "\t<tr><td>1503960366</td><td>2016-04-13</td><td>10735     </td><td>6.97      </td><td>6.97      </td><td>0         </td><td>1.57      </td><td>0.69      </td><td>4.71      </td><td>0         </td><td>21        </td><td>19        </td><td>217       </td><td> 776      </td><td>1797      </td><td>04/13/16  </td></tr>\n",
       "\t<tr><td>1503960366</td><td>2016-04-14</td><td>10460     </td><td>6.74      </td><td>6.74      </td><td>0         </td><td>2.44      </td><td>0.40      </td><td>3.91      </td><td>0         </td><td>30        </td><td>11        </td><td>181       </td><td>1218      </td><td>1776      </td><td>04/14/16  </td></tr>\n",
       "\t<tr><td>1503960366</td><td>2016-04-15</td><td> 9762     </td><td>6.28      </td><td>6.28      </td><td>0         </td><td>2.14      </td><td>1.26      </td><td>2.83      </td><td>0         </td><td>29        </td><td>34        </td><td>209       </td><td> 726      </td><td>1745      </td><td>04/15/16  </td></tr>\n",
       "\t<tr><td>1503960366</td><td>2016-04-16</td><td>12669     </td><td>8.16      </td><td>8.16      </td><td>0         </td><td>2.71      </td><td>0.41      </td><td>5.04      </td><td>0         </td><td>36        </td><td>10        </td><td>221       </td><td> 773      </td><td>1863      </td><td>04/16/16  </td></tr>\n",
       "\t<tr><td>1503960366</td><td>2016-04-17</td><td> 9705     </td><td>6.48      </td><td>6.48      </td><td>0         </td><td>3.19      </td><td>0.78      </td><td>2.51      </td><td>0         </td><td>38        </td><td>20        </td><td>164       </td><td> 539      </td><td>1728      </td><td>04/17/16  </td></tr>\n",
       "</tbody>\n",
       "</table>\n"
      ],
      "text/latex": [
       "\\begin{tabular}{r|llllllllllllllll}\n",
       " Id & ActivityDate & TotalSteps & TotalDistance & TrackerDistance & LoggedActivitiesDistance & VeryActiveDistance & ModeratelyActiveDistance & LightActiveDistance & SedentaryActiveDistance & VeryActiveMinutes & FairlyActiveMinutes & LightlyActiveMinutes & SedentaryMinutes & Calories & date\\\\\n",
       "\\hline\n",
       "\t 1503960366 & 2016-04-12 & 13162      & 8.50       & 8.50       & 0          & 1.88       & 0.55       & 6.06       & 0          & 25         & 13         & 328        &  728       & 1985       & 04/12/16  \\\\\n",
       "\t 1503960366 & 2016-04-13 & 10735      & 6.97       & 6.97       & 0          & 1.57       & 0.69       & 4.71       & 0          & 21         & 19         & 217        &  776       & 1797       & 04/13/16  \\\\\n",
       "\t 1503960366 & 2016-04-14 & 10460      & 6.74       & 6.74       & 0          & 2.44       & 0.40       & 3.91       & 0          & 30         & 11         & 181        & 1218       & 1776       & 04/14/16  \\\\\n",
       "\t 1503960366 & 2016-04-15 &  9762      & 6.28       & 6.28       & 0          & 2.14       & 1.26       & 2.83       & 0          & 29         & 34         & 209        &  726       & 1745       & 04/15/16  \\\\\n",
       "\t 1503960366 & 2016-04-16 & 12669      & 8.16       & 8.16       & 0          & 2.71       & 0.41       & 5.04       & 0          & 36         & 10         & 221        &  773       & 1863       & 04/16/16  \\\\\n",
       "\t 1503960366 & 2016-04-17 &  9705      & 6.48       & 6.48       & 0          & 3.19       & 0.78       & 2.51       & 0          & 38         & 20         & 164        &  539       & 1728       & 04/17/16  \\\\\n",
       "\\end{tabular}\n"
      ],
      "text/markdown": [
       "\n",
       "| Id | ActivityDate | TotalSteps | TotalDistance | TrackerDistance | LoggedActivitiesDistance | VeryActiveDistance | ModeratelyActiveDistance | LightActiveDistance | SedentaryActiveDistance | VeryActiveMinutes | FairlyActiveMinutes | LightlyActiveMinutes | SedentaryMinutes | Calories | date |\n",
       "|---|---|---|---|---|---|---|---|---|---|---|---|---|---|---|---|\n",
       "| 1503960366 | 2016-04-12 | 13162      | 8.50       | 8.50       | 0          | 1.88       | 0.55       | 6.06       | 0          | 25         | 13         | 328        |  728       | 1985       | 04/12/16   |\n",
       "| 1503960366 | 2016-04-13 | 10735      | 6.97       | 6.97       | 0          | 1.57       | 0.69       | 4.71       | 0          | 21         | 19         | 217        |  776       | 1797       | 04/13/16   |\n",
       "| 1503960366 | 2016-04-14 | 10460      | 6.74       | 6.74       | 0          | 2.44       | 0.40       | 3.91       | 0          | 30         | 11         | 181        | 1218       | 1776       | 04/14/16   |\n",
       "| 1503960366 | 2016-04-15 |  9762      | 6.28       | 6.28       | 0          | 2.14       | 1.26       | 2.83       | 0          | 29         | 34         | 209        |  726       | 1745       | 04/15/16   |\n",
       "| 1503960366 | 2016-04-16 | 12669      | 8.16       | 8.16       | 0          | 2.71       | 0.41       | 5.04       | 0          | 36         | 10         | 221        |  773       | 1863       | 04/16/16   |\n",
       "| 1503960366 | 2016-04-17 |  9705      | 6.48       | 6.48       | 0          | 3.19       | 0.78       | 2.51       | 0          | 38         | 20         | 164        |  539       | 1728       | 04/17/16   |\n",
       "\n"
      ],
      "text/plain": [
       "  Id         ActivityDate TotalSteps TotalDistance TrackerDistance\n",
       "1 1503960366 2016-04-12   13162      8.50          8.50           \n",
       "2 1503960366 2016-04-13   10735      6.97          6.97           \n",
       "3 1503960366 2016-04-14   10460      6.74          6.74           \n",
       "4 1503960366 2016-04-15    9762      6.28          6.28           \n",
       "5 1503960366 2016-04-16   12669      8.16          8.16           \n",
       "6 1503960366 2016-04-17    9705      6.48          6.48           \n",
       "  LoggedActivitiesDistance VeryActiveDistance ModeratelyActiveDistance\n",
       "1 0                        1.88               0.55                    \n",
       "2 0                        1.57               0.69                    \n",
       "3 0                        2.44               0.40                    \n",
       "4 0                        2.14               1.26                    \n",
       "5 0                        2.71               0.41                    \n",
       "6 0                        3.19               0.78                    \n",
       "  LightActiveDistance SedentaryActiveDistance VeryActiveMinutes\n",
       "1 6.06                0                       25               \n",
       "2 4.71                0                       21               \n",
       "3 3.91                0                       30               \n",
       "4 2.83                0                       29               \n",
       "5 5.04                0                       36               \n",
       "6 2.51                0                       38               \n",
       "  FairlyActiveMinutes LightlyActiveMinutes SedentaryMinutes Calories date    \n",
       "1 13                  328                   728             1985     04/12/16\n",
       "2 19                  217                   776             1797     04/13/16\n",
       "3 11                  181                  1218             1776     04/14/16\n",
       "4 34                  209                   726             1745     04/15/16\n",
       "5 10                  221                   773             1863     04/16/16\n",
       "6 20                  164                   539             1728     04/17/16"
      ]
     },
     "metadata": {},
     "output_type": "display_data"
    },
    {
     "data": {
      "text/html": [
       "<table>\n",
       "<thead><tr><th scope=col>Id</th><th scope=col>SleepDay</th><th scope=col>TotalSleepRecords</th><th scope=col>TotalMinutesAsleep</th><th scope=col>TotalTimeInBed</th><th scope=col>date</th></tr></thead>\n",
       "<tbody>\n",
       "\t<tr><td>1503960366</td><td>2016-04-12</td><td>1         </td><td>327       </td><td>346       </td><td>04/12/16  </td></tr>\n",
       "\t<tr><td>1503960366</td><td>2016-04-13</td><td>2         </td><td>384       </td><td>407       </td><td>04/13/16  </td></tr>\n",
       "\t<tr><td>1503960366</td><td>2016-04-15</td><td>1         </td><td>412       </td><td>442       </td><td>04/15/16  </td></tr>\n",
       "\t<tr><td>1503960366</td><td>2016-04-16</td><td>2         </td><td>340       </td><td>367       </td><td>04/16/16  </td></tr>\n",
       "\t<tr><td>1503960366</td><td>2016-04-17</td><td>1         </td><td>700       </td><td>712       </td><td>04/17/16  </td></tr>\n",
       "\t<tr><td>1503960366</td><td>2016-04-19</td><td>1         </td><td>304       </td><td>320       </td><td>04/19/16  </td></tr>\n",
       "</tbody>\n",
       "</table>\n"
      ],
      "text/latex": [
       "\\begin{tabular}{r|llllll}\n",
       " Id & SleepDay & TotalSleepRecords & TotalMinutesAsleep & TotalTimeInBed & date\\\\\n",
       "\\hline\n",
       "\t 1503960366 & 2016-04-12 & 1          & 327        & 346        & 04/12/16  \\\\\n",
       "\t 1503960366 & 2016-04-13 & 2          & 384        & 407        & 04/13/16  \\\\\n",
       "\t 1503960366 & 2016-04-15 & 1          & 412        & 442        & 04/15/16  \\\\\n",
       "\t 1503960366 & 2016-04-16 & 2          & 340        & 367        & 04/16/16  \\\\\n",
       "\t 1503960366 & 2016-04-17 & 1          & 700        & 712        & 04/17/16  \\\\\n",
       "\t 1503960366 & 2016-04-19 & 1          & 304        & 320        & 04/19/16  \\\\\n",
       "\\end{tabular}\n"
      ],
      "text/markdown": [
       "\n",
       "| Id | SleepDay | TotalSleepRecords | TotalMinutesAsleep | TotalTimeInBed | date |\n",
       "|---|---|---|---|---|---|\n",
       "| 1503960366 | 2016-04-12 | 1          | 327        | 346        | 04/12/16   |\n",
       "| 1503960366 | 2016-04-13 | 2          | 384        | 407        | 04/13/16   |\n",
       "| 1503960366 | 2016-04-15 | 1          | 412        | 442        | 04/15/16   |\n",
       "| 1503960366 | 2016-04-16 | 2          | 340        | 367        | 04/16/16   |\n",
       "| 1503960366 | 2016-04-17 | 1          | 700        | 712        | 04/17/16   |\n",
       "| 1503960366 | 2016-04-19 | 1          | 304        | 320        | 04/19/16   |\n",
       "\n"
      ],
      "text/plain": [
       "  Id         SleepDay   TotalSleepRecords TotalMinutesAsleep TotalTimeInBed\n",
       "1 1503960366 2016-04-12 1                 327                346           \n",
       "2 1503960366 2016-04-13 2                 384                407           \n",
       "3 1503960366 2016-04-15 1                 412                442           \n",
       "4 1503960366 2016-04-16 2                 340                367           \n",
       "5 1503960366 2016-04-17 1                 700                712           \n",
       "6 1503960366 2016-04-19 1                 304                320           \n",
       "  date    \n",
       "1 04/12/16\n",
       "2 04/13/16\n",
       "3 04/15/16\n",
       "4 04/16/16\n",
       "5 04/17/16\n",
       "6 04/19/16"
      ]
     },
     "metadata": {},
     "output_type": "display_data"
    },
    {
     "data": {
      "text/html": [
       "<table>\n",
       "<thead><tr><th scope=col>Id</th><th scope=col>ActivityHour</th><th scope=col>TotalIntensity</th><th scope=col>AverageIntensity</th><th scope=col>time</th><th scope=col>date</th></tr></thead>\n",
       "<tbody>\n",
       "\t<tr><td>1503960366         </td><td>2016-04-12 00:00:00</td><td>20                 </td><td>0.333333           </td><td>00:00:00           </td><td>04/12/16           </td></tr>\n",
       "\t<tr><td>1503960366         </td><td>2016-04-12 01:00:00</td><td> 8                 </td><td>0.133333           </td><td>01:00:00           </td><td>04/12/16           </td></tr>\n",
       "\t<tr><td>1503960366         </td><td>2016-04-12 02:00:00</td><td> 7                 </td><td>0.116667           </td><td>02:00:00           </td><td>04/12/16           </td></tr>\n",
       "\t<tr><td>1503960366         </td><td>2016-04-12 03:00:00</td><td> 0                 </td><td>0.000000           </td><td>03:00:00           </td><td>04/12/16           </td></tr>\n",
       "\t<tr><td>1503960366         </td><td>2016-04-12 04:00:00</td><td> 0                 </td><td>0.000000           </td><td>04:00:00           </td><td>04/12/16           </td></tr>\n",
       "\t<tr><td>1503960366         </td><td>2016-04-12 05:00:00</td><td> 0                 </td><td>0.000000           </td><td>05:00:00           </td><td>04/12/16           </td></tr>\n",
       "</tbody>\n",
       "</table>\n"
      ],
      "text/latex": [
       "\\begin{tabular}{r|llllll}\n",
       " Id & ActivityHour & TotalIntensity & AverageIntensity & time & date\\\\\n",
       "\\hline\n",
       "\t 1503960366          & 2016-04-12 00:00:00 & 20                  & 0.333333            & 00:00:00            & 04/12/16           \\\\\n",
       "\t 1503960366          & 2016-04-12 01:00:00 &  8                  & 0.133333            & 01:00:00            & 04/12/16           \\\\\n",
       "\t 1503960366          & 2016-04-12 02:00:00 &  7                  & 0.116667            & 02:00:00            & 04/12/16           \\\\\n",
       "\t 1503960366          & 2016-04-12 03:00:00 &  0                  & 0.000000            & 03:00:00            & 04/12/16           \\\\\n",
       "\t 1503960366          & 2016-04-12 04:00:00 &  0                  & 0.000000            & 04:00:00            & 04/12/16           \\\\\n",
       "\t 1503960366          & 2016-04-12 05:00:00 &  0                  & 0.000000            & 05:00:00            & 04/12/16           \\\\\n",
       "\\end{tabular}\n"
      ],
      "text/markdown": [
       "\n",
       "| Id | ActivityHour | TotalIntensity | AverageIntensity | time | date |\n",
       "|---|---|---|---|---|---|\n",
       "| 1503960366          | 2016-04-12 00:00:00 | 20                  | 0.333333            | 00:00:00            | 04/12/16            |\n",
       "| 1503960366          | 2016-04-12 01:00:00 |  8                  | 0.133333            | 01:00:00            | 04/12/16            |\n",
       "| 1503960366          | 2016-04-12 02:00:00 |  7                  | 0.116667            | 02:00:00            | 04/12/16            |\n",
       "| 1503960366          | 2016-04-12 03:00:00 |  0                  | 0.000000            | 03:00:00            | 04/12/16            |\n",
       "| 1503960366          | 2016-04-12 04:00:00 |  0                  | 0.000000            | 04:00:00            | 04/12/16            |\n",
       "| 1503960366          | 2016-04-12 05:00:00 |  0                  | 0.000000            | 05:00:00            | 04/12/16            |\n",
       "\n"
      ],
      "text/plain": [
       "  Id         ActivityHour        TotalIntensity AverageIntensity time    \n",
       "1 1503960366 2016-04-12 00:00:00 20             0.333333         00:00:00\n",
       "2 1503960366 2016-04-12 01:00:00  8             0.133333         01:00:00\n",
       "3 1503960366 2016-04-12 02:00:00  7             0.116667         02:00:00\n",
       "4 1503960366 2016-04-12 03:00:00  0             0.000000         03:00:00\n",
       "5 1503960366 2016-04-12 04:00:00  0             0.000000         04:00:00\n",
       "6 1503960366 2016-04-12 05:00:00  0             0.000000         05:00:00\n",
       "  date    \n",
       "1 04/12/16\n",
       "2 04/12/16\n",
       "3 04/12/16\n",
       "4 04/12/16\n",
       "5 04/12/16\n",
       "6 04/12/16"
      ]
     },
     "metadata": {},
     "output_type": "display_data"
    }
   ],
   "source": [
    "# View Changes to confirm success\n",
    "head(activity)\n",
    "head(sleep)\n",
    "head(hourly_intensity)"
   ]
  },
  {
   "cell_type": "markdown",
   "id": "23a45a90",
   "metadata": {},
   "source": [
    "# Phase 4 - Analyse\n",
    "## This will be done through summary statistics and exploratory data analysis"
   ]
  },
  {
   "cell_type": "code",
   "execution_count": 69,
   "id": "e9214787",
   "metadata": {},
   "outputs": [
    {
     "data": {
      "text/plain": [
       "       Id             ActivityDate                   TotalSteps   \n",
       " Min.   :1.504e+09   Min.   :2016-04-12 00:00:00   Min.   :    0  \n",
       " 1st Qu.:2.320e+09   1st Qu.:2016-04-19 00:00:00   1st Qu.: 3790  \n",
       " Median :4.445e+09   Median :2016-04-26 00:00:00   Median : 7406  \n",
       " Mean   :4.855e+09   Mean   :2016-04-26 06:53:37   Mean   : 7638  \n",
       " 3rd Qu.:6.962e+09   3rd Qu.:2016-05-04 00:00:00   3rd Qu.:10727  \n",
       " Max.   :8.878e+09   Max.   :2016-05-12 00:00:00   Max.   :36019  \n",
       " TotalDistance    TrackerDistance  LoggedActivitiesDistance VeryActiveDistance\n",
       " Min.   : 0.000   Min.   : 0.000   Min.   :0.0000           Min.   : 0.000    \n",
       " 1st Qu.: 2.620   1st Qu.: 2.620   1st Qu.:0.0000           1st Qu.: 0.000    \n",
       " Median : 5.245   Median : 5.245   Median :0.0000           Median : 0.210    \n",
       " Mean   : 5.490   Mean   : 5.475   Mean   :0.1082           Mean   : 1.503    \n",
       " 3rd Qu.: 7.713   3rd Qu.: 7.710   3rd Qu.:0.0000           3rd Qu.: 2.053    \n",
       " Max.   :28.030   Max.   :28.030   Max.   :4.9421           Max.   :21.920    \n",
       " ModeratelyActiveDistance LightActiveDistance SedentaryActiveDistance\n",
       " Min.   :0.0000           Min.   : 0.000      Min.   :0.000000       \n",
       " 1st Qu.:0.0000           1st Qu.: 1.945      1st Qu.:0.000000       \n",
       " Median :0.2400           Median : 3.365      Median :0.000000       \n",
       " Mean   :0.5675           Mean   : 3.341      Mean   :0.001606       \n",
       " 3rd Qu.:0.8000           3rd Qu.: 4.782      3rd Qu.:0.000000       \n",
       " Max.   :6.4800           Max.   :10.710      Max.   :0.110000       \n",
       " VeryActiveMinutes FairlyActiveMinutes LightlyActiveMinutes SedentaryMinutes\n",
       " Min.   :  0.00    Min.   :  0.00      Min.   :  0.0        Min.   :   0.0  \n",
       " 1st Qu.:  0.00    1st Qu.:  0.00      1st Qu.:127.0        1st Qu.: 729.8  \n",
       " Median :  4.00    Median :  6.00      Median :199.0        Median :1057.5  \n",
       " Mean   : 21.16    Mean   : 13.56      Mean   :192.8        Mean   : 991.2  \n",
       " 3rd Qu.: 32.00    3rd Qu.: 19.00      3rd Qu.:264.0        3rd Qu.:1229.5  \n",
       " Max.   :210.00    Max.   :143.00      Max.   :518.0        Max.   :1440.0  \n",
       "    Calories        date          \n",
       " Min.   :   0   Length:940        \n",
       " 1st Qu.:1828   Class :character  \n",
       " Median :2134   Mode  :character  \n",
       " Mean   :2304                     \n",
       " 3rd Qu.:2793                     \n",
       " Max.   :4900                     "
      ]
     },
     "metadata": {},
     "output_type": "display_data"
    },
    {
     "data": {
      "text/plain": [
       "       Id                Date              WeightKg       WeightPounds  \n",
       " Min.   :1.504e+09   Length:67          Min.   : 52.60   Min.   :116.0  \n",
       " 1st Qu.:6.962e+09   Class :character   1st Qu.: 61.40   1st Qu.:135.4  \n",
       " Median :6.962e+09   Mode  :character   Median : 62.50   Median :137.8  \n",
       " Mean   :7.009e+09                      Mean   : 72.04   Mean   :158.8  \n",
       " 3rd Qu.:8.878e+09                      3rd Qu.: 85.05   3rd Qu.:187.5  \n",
       " Max.   :8.878e+09                      Max.   :133.50   Max.   :294.3  \n",
       "                                                                        \n",
       "      Fat             BMI        IsManualReport      LogId          \n",
       " Min.   :22.00   Min.   :21.45   Mode :logical   Min.   :1.460e+12  \n",
       " 1st Qu.:22.75   1st Qu.:23.96   FALSE:26        1st Qu.:1.461e+12  \n",
       " Median :23.50   Median :24.39   TRUE :41        Median :1.462e+12  \n",
       " Mean   :23.50   Mean   :25.19                   Mean   :1.462e+12  \n",
       " 3rd Qu.:24.25   3rd Qu.:25.56                   3rd Qu.:1.462e+12  \n",
       " Max.   :25.00   Max.   :47.54                   Max.   :1.463e+12  \n",
       " NA's   :65                                                         "
      ]
     },
     "metadata": {},
     "output_type": "display_data"
    },
    {
     "data": {
      "text/plain": [
       "       Id               SleepDay                   TotalSleepRecords\n",
       " Min.   :1.504e+09   Min.   :2016-04-12 00:00:00   Min.   :1.000    \n",
       " 1st Qu.:3.977e+09   1st Qu.:2016-04-19 00:00:00   1st Qu.:1.000    \n",
       " Median :4.703e+09   Median :2016-04-27 00:00:00   Median :1.000    \n",
       " Mean   :5.001e+09   Mean   :2016-04-26 12:40:05   Mean   :1.119    \n",
       " 3rd Qu.:6.962e+09   3rd Qu.:2016-05-04 00:00:00   3rd Qu.:1.000    \n",
       " Max.   :8.792e+09   Max.   :2016-05-12 00:00:00   Max.   :3.000    \n",
       " TotalMinutesAsleep TotalTimeInBed      date          \n",
       " Min.   : 58.0      Min.   : 61.0   Length:413        \n",
       " 1st Qu.:361.0      1st Qu.:403.0   Class :character  \n",
       " Median :433.0      Median :463.0   Mode  :character  \n",
       " Mean   :419.5      Mean   :458.6                     \n",
       " 3rd Qu.:490.0      3rd Qu.:526.0                     \n",
       " Max.   :796.0      Max.   :961.0                     "
      ]
     },
     "metadata": {},
     "output_type": "display_data"
    }
   ],
   "source": [
    "# Begin summary statistics\n",
    "summary(activity)\n",
    "summary(weight)\n",
    "summary(sleep)"
   ]
  },
  {
   "cell_type": "markdown",
   "id": "80642cfb",
   "metadata": {},
   "source": [
    "### From the findings above ^ we manage to draw the following insights:\n",
    "### For sleep: the average total minutes asleep is slightly lesser than the total time in bed, this can be due to the time taken to fall asleep. Hence the insight here is pretty standard and accurate\n",
    "### For weight: only 8 participants are screened, hence the insights drawn here are not the most accurate and will not provide good readings\n",
    "### For activity: average sedentary time is 991 mins (around 16 hours) which is not a very optimal amount and should be reduced if possible. Average steps taken is 7638 which is slightly below the recommended amount. Majority of the participants are lightly active "
   ]
  },
  {
   "cell_type": "code",
   "execution_count": 70,
   "id": "cf8c8422",
   "metadata": {},
   "outputs": [
    {
     "data": {
      "text/html": [
       "<table>\n",
       "<thead><tr><th scope=col>Id</th><th scope=col>date</th><th scope=col>SleepDay</th><th scope=col>TotalSleepRecords</th><th scope=col>TotalMinutesAsleep</th><th scope=col>TotalTimeInBed</th><th scope=col>ActivityDate</th><th scope=col>TotalSteps</th><th scope=col>TotalDistance</th><th scope=col>TrackerDistance</th><th scope=col>LoggedActivitiesDistance</th><th scope=col>VeryActiveDistance</th><th scope=col>ModeratelyActiveDistance</th><th scope=col>LightActiveDistance</th><th scope=col>SedentaryActiveDistance</th><th scope=col>VeryActiveMinutes</th><th scope=col>FairlyActiveMinutes</th><th scope=col>LightlyActiveMinutes</th><th scope=col>SedentaryMinutes</th><th scope=col>Calories</th></tr></thead>\n",
       "<tbody>\n",
       "\t<tr><td>1503960366</td><td>04/12/16  </td><td>2016-04-12</td><td>1         </td><td>327       </td><td>346       </td><td>2016-04-12</td><td>13162     </td><td>8.50      </td><td>8.50      </td><td>0         </td><td>1.88      </td><td>0.55      </td><td>6.06      </td><td>0         </td><td>25        </td><td>13        </td><td>328       </td><td>728       </td><td>1985      </td></tr>\n",
       "\t<tr><td>1503960366</td><td>04/13/16  </td><td>2016-04-13</td><td>2         </td><td>384       </td><td>407       </td><td>2016-04-13</td><td>10735     </td><td>6.97      </td><td>6.97      </td><td>0         </td><td>1.57      </td><td>0.69      </td><td>4.71      </td><td>0         </td><td>21        </td><td>19        </td><td>217       </td><td>776       </td><td>1797      </td></tr>\n",
       "\t<tr><td>1503960366</td><td>04/15/16  </td><td>2016-04-15</td><td>1         </td><td>412       </td><td>442       </td><td>2016-04-15</td><td> 9762     </td><td>6.28      </td><td>6.28      </td><td>0         </td><td>2.14      </td><td>1.26      </td><td>2.83      </td><td>0         </td><td>29        </td><td>34        </td><td>209       </td><td>726       </td><td>1745      </td></tr>\n",
       "\t<tr><td>1503960366</td><td>04/16/16  </td><td>2016-04-16</td><td>2         </td><td>340       </td><td>367       </td><td>2016-04-16</td><td>12669     </td><td>8.16      </td><td>8.16      </td><td>0         </td><td>2.71      </td><td>0.41      </td><td>5.04      </td><td>0         </td><td>36        </td><td>10        </td><td>221       </td><td>773       </td><td>1863      </td></tr>\n",
       "\t<tr><td>1503960366</td><td>04/17/16  </td><td>2016-04-17</td><td>1         </td><td>700       </td><td>712       </td><td>2016-04-17</td><td> 9705     </td><td>6.48      </td><td>6.48      </td><td>0         </td><td>3.19      </td><td>0.78      </td><td>2.51      </td><td>0         </td><td>38        </td><td>20        </td><td>164       </td><td>539       </td><td>1728      </td></tr>\n",
       "\t<tr><td>1503960366</td><td>04/19/16  </td><td>2016-04-19</td><td>1         </td><td>304       </td><td>320       </td><td>2016-04-19</td><td>15506     </td><td>9.88      </td><td>9.88      </td><td>0         </td><td>3.53      </td><td>1.32      </td><td>5.03      </td><td>0         </td><td>50        </td><td>31        </td><td>264       </td><td>775       </td><td>2035      </td></tr>\n",
       "</tbody>\n",
       "</table>\n"
      ],
      "text/latex": [
       "\\begin{tabular}{r|llllllllllllllllllll}\n",
       " Id & date & SleepDay & TotalSleepRecords & TotalMinutesAsleep & TotalTimeInBed & ActivityDate & TotalSteps & TotalDistance & TrackerDistance & LoggedActivitiesDistance & VeryActiveDistance & ModeratelyActiveDistance & LightActiveDistance & SedentaryActiveDistance & VeryActiveMinutes & FairlyActiveMinutes & LightlyActiveMinutes & SedentaryMinutes & Calories\\\\\n",
       "\\hline\n",
       "\t 1503960366 & 04/12/16   & 2016-04-12 & 1          & 327        & 346        & 2016-04-12 & 13162      & 8.50       & 8.50       & 0          & 1.88       & 0.55       & 6.06       & 0          & 25         & 13         & 328        & 728        & 1985      \\\\\n",
       "\t 1503960366 & 04/13/16   & 2016-04-13 & 2          & 384        & 407        & 2016-04-13 & 10735      & 6.97       & 6.97       & 0          & 1.57       & 0.69       & 4.71       & 0          & 21         & 19         & 217        & 776        & 1797      \\\\\n",
       "\t 1503960366 & 04/15/16   & 2016-04-15 & 1          & 412        & 442        & 2016-04-15 &  9762      & 6.28       & 6.28       & 0          & 2.14       & 1.26       & 2.83       & 0          & 29         & 34         & 209        & 726        & 1745      \\\\\n",
       "\t 1503960366 & 04/16/16   & 2016-04-16 & 2          & 340        & 367        & 2016-04-16 & 12669      & 8.16       & 8.16       & 0          & 2.71       & 0.41       & 5.04       & 0          & 36         & 10         & 221        & 773        & 1863      \\\\\n",
       "\t 1503960366 & 04/17/16   & 2016-04-17 & 1          & 700        & 712        & 2016-04-17 &  9705      & 6.48       & 6.48       & 0          & 3.19       & 0.78       & 2.51       & 0          & 38         & 20         & 164        & 539        & 1728      \\\\\n",
       "\t 1503960366 & 04/19/16   & 2016-04-19 & 1          & 304        & 320        & 2016-04-19 & 15506      & 9.88       & 9.88       & 0          & 3.53       & 1.32       & 5.03       & 0          & 50         & 31         & 264        & 775        & 2035      \\\\\n",
       "\\end{tabular}\n"
      ],
      "text/markdown": [
       "\n",
       "| Id | date | SleepDay | TotalSleepRecords | TotalMinutesAsleep | TotalTimeInBed | ActivityDate | TotalSteps | TotalDistance | TrackerDistance | LoggedActivitiesDistance | VeryActiveDistance | ModeratelyActiveDistance | LightActiveDistance | SedentaryActiveDistance | VeryActiveMinutes | FairlyActiveMinutes | LightlyActiveMinutes | SedentaryMinutes | Calories |\n",
       "|---|---|---|---|---|---|---|---|---|---|---|---|---|---|---|---|---|---|---|---|\n",
       "| 1503960366 | 04/12/16   | 2016-04-12 | 1          | 327        | 346        | 2016-04-12 | 13162      | 8.50       | 8.50       | 0          | 1.88       | 0.55       | 6.06       | 0          | 25         | 13         | 328        | 728        | 1985       |\n",
       "| 1503960366 | 04/13/16   | 2016-04-13 | 2          | 384        | 407        | 2016-04-13 | 10735      | 6.97       | 6.97       | 0          | 1.57       | 0.69       | 4.71       | 0          | 21         | 19         | 217        | 776        | 1797       |\n",
       "| 1503960366 | 04/15/16   | 2016-04-15 | 1          | 412        | 442        | 2016-04-15 |  9762      | 6.28       | 6.28       | 0          | 2.14       | 1.26       | 2.83       | 0          | 29         | 34         | 209        | 726        | 1745       |\n",
       "| 1503960366 | 04/16/16   | 2016-04-16 | 2          | 340        | 367        | 2016-04-16 | 12669      | 8.16       | 8.16       | 0          | 2.71       | 0.41       | 5.04       | 0          | 36         | 10         | 221        | 773        | 1863       |\n",
       "| 1503960366 | 04/17/16   | 2016-04-17 | 1          | 700        | 712        | 2016-04-17 |  9705      | 6.48       | 6.48       | 0          | 3.19       | 0.78       | 2.51       | 0          | 38         | 20         | 164        | 539        | 1728       |\n",
       "| 1503960366 | 04/19/16   | 2016-04-19 | 1          | 304        | 320        | 2016-04-19 | 15506      | 9.88       | 9.88       | 0          | 3.53       | 1.32       | 5.03       | 0          | 50         | 31         | 264        | 775        | 2035       |\n",
       "\n"
      ],
      "text/plain": [
       "  Id         date     SleepDay   TotalSleepRecords TotalMinutesAsleep\n",
       "1 1503960366 04/12/16 2016-04-12 1                 327               \n",
       "2 1503960366 04/13/16 2016-04-13 2                 384               \n",
       "3 1503960366 04/15/16 2016-04-15 1                 412               \n",
       "4 1503960366 04/16/16 2016-04-16 2                 340               \n",
       "5 1503960366 04/17/16 2016-04-17 1                 700               \n",
       "6 1503960366 04/19/16 2016-04-19 1                 304               \n",
       "  TotalTimeInBed ActivityDate TotalSteps TotalDistance TrackerDistance\n",
       "1 346            2016-04-12   13162      8.50          8.50           \n",
       "2 407            2016-04-13   10735      6.97          6.97           \n",
       "3 442            2016-04-15    9762      6.28          6.28           \n",
       "4 367            2016-04-16   12669      8.16          8.16           \n",
       "5 712            2016-04-17    9705      6.48          6.48           \n",
       "6 320            2016-04-19   15506      9.88          9.88           \n",
       "  LoggedActivitiesDistance VeryActiveDistance ModeratelyActiveDistance\n",
       "1 0                        1.88               0.55                    \n",
       "2 0                        1.57               0.69                    \n",
       "3 0                        2.14               1.26                    \n",
       "4 0                        2.71               0.41                    \n",
       "5 0                        3.19               0.78                    \n",
       "6 0                        3.53               1.32                    \n",
       "  LightActiveDistance SedentaryActiveDistance VeryActiveMinutes\n",
       "1 6.06                0                       25               \n",
       "2 4.71                0                       21               \n",
       "3 2.83                0                       29               \n",
       "4 5.04                0                       36               \n",
       "5 2.51                0                       38               \n",
       "6 5.03                0                       50               \n",
       "  FairlyActiveMinutes LightlyActiveMinutes SedentaryMinutes Calories\n",
       "1 13                  328                  728              1985    \n",
       "2 19                  217                  776              1797    \n",
       "3 34                  209                  726              1745    \n",
       "4 10                  221                  773              1863    \n",
       "5 20                  164                  539              1728    \n",
       "6 31                  264                  775              2035    "
      ]
     },
     "metadata": {},
     "output_type": "display_data"
    }
   ],
   "source": [
    "# Merge data using an inner join by \"id\"\n",
    "\n",
    "merge_sleep_activity <- merge(sleep, activity, by=c('Id', 'date'))\n",
    "head(merge_sleep_activity)\n"
   ]
  },
  {
   "cell_type": "markdown",
   "id": "c8cd6647",
   "metadata": {},
   "source": [
    "## Exploratory Data Analysis"
   ]
  },
  {
   "cell_type": "markdown",
   "id": "bbb4a731",
   "metadata": {},
   "source": [
    "### <u>Scatter plot of SedentaryMinutes vs Calories</u>"
   ]
  },
  {
   "cell_type": "code",
   "execution_count": 71,
   "id": "f1aa0b71",
   "metadata": {},
   "outputs": [
    {
     "name": "stderr",
     "output_type": "stream",
     "text": [
      "`geom_smooth()` using method = 'loess' and formula 'y ~ x'\n"
     ]
    },
    {
     "data": {
      "image/png": "[encoded data removed]",
      "text/plain": [
       "plot without title"
      ]
     },
     "metadata": {},
     "output_type": "display_data"
    }
   ],
   "source": [
    "# Exploratory Data Analysis\n",
    "# Scatter plot SedentaryMinutes vs Calories\n",
    "\n",
    "ggplot(merge_sleep_activity, aes(x=SedentaryMinutes, y=Calories)) + geom_point() + geom_smooth() + labs(title=\"Sedentary Minutes vs. Calories\")"
   ]
  },
  {
   "cell_type": "markdown",
   "id": "8444ec5c",
   "metadata": {},
   "source": [
    "### Insights: We assume that a person with longer sedentary minutes will require lower calories, the plot shows that the average sedentary minute have a rather extensive range of calorie intake"
   ]
  },
  {
   "cell_type": "markdown",
   "id": "fd6640f1",
   "metadata": {},
   "source": [
    "### <u>Scatter Plot of Total Steps vs Calories</u>"
   ]
  },
  {
   "cell_type": "code",
   "execution_count": 72,
   "id": "47266594",
   "metadata": {},
   "outputs": [
    {
     "name": "stderr",
     "output_type": "stream",
     "text": [
      "`geom_smooth()` using method = 'loess' and formula 'y ~ x'\n"
     ]
    },
    {
     "data": {
      "image/png": "[encoded data removed]",
      "text/plain": [
       "plot without title"
      ]
     },
     "metadata": {},
     "output_type": "display_data"
    }
   ],
   "source": [
    "ggplot(merge_sleep_activity, aes(x=TotalSteps, y=Calories)) + geom_point() + geom_smooth() + labs(title=\"Total Steps vs. Calories\")"
   ]
  },
  {
   "cell_type": "markdown",
   "id": "0a26f2a6",
   "metadata": {},
   "source": [
    "### Insights: A rather positive correlation regarding total steps taken and calorie intake. It make sense as with more steps taken, there should be a higher amount of calories intake"
   ]
  },
  {
   "cell_type": "markdown",
   "id": "8f2750c0",
   "metadata": {},
   "source": [
    "### <u>Scatter Plot of Total Minutes Asleep vs Calorie Intake</u>"
   ]
  },
  {
   "cell_type": "code",
   "execution_count": 73,
   "id": "36d7f9db",
   "metadata": {},
   "outputs": [
    {
     "name": "stderr",
     "output_type": "stream",
     "text": [
      "`geom_smooth()` using method = 'loess' and formula 'y ~ x'\n"
     ]
    },
    {
     "data": {
      "image/png": "[encoded data removed]",
      "text/plain": [
       "plot without title"
      ]
     },
     "metadata": {},
     "output_type": "display_data"
    }
   ],
   "source": [
    "# Scatter Plot\n",
    "ggplot(merge_sleep_activity, aes(x=TotalMinutesAsleep, y=Calories)) + geom_point() + geom_smooth() + labs(title=\"TotalMinutesAsleep vs. Calories\")"
   ]
  },
  {
   "cell_type": "markdown",
   "id": "fb90ca71",
   "metadata": {},
   "source": [
    "### Insights: With longer amounts of sleep, calorie intake should be lower. Hence there is a negative correlation between sleep and calorie intake"
   ]
  },
  {
   "cell_type": "markdown",
   "id": "80d7744e",
   "metadata": {},
   "source": [
    "### <u>Scatter Plot of Total Minutes Asleep vs Total Time in Bed</u>"
   ]
  },
  {
   "cell_type": "code",
   "execution_count": 74,
   "id": "d68829ba",
   "metadata": {},
   "outputs": [
    {
     "data": {
      "image/png": "[encoded data removed]",
      "text/plain": [
       "plot without title"
      ]
     },
     "metadata": {},
     "output_type": "display_data"
    }
   ],
   "source": [
    "ggplot(data=merge_sleep_activity, aes(x=TotalMinutesAsleep, y=TotalTimeInBed)) + \n",
    "  geom_point()+ labs(title=\"Total Minutes Asleep vs. Total Time in Bed\")"
   ]
  },
  {
   "cell_type": "markdown",
   "id": "df325b68",
   "metadata": {},
   "source": [
    "### Insights: There is a strong positive linear relationship between this two variables. Stating that there are no discrepancies between time in bed vs actual sleep time"
   ]
  },
  {
   "cell_type": "markdown",
   "id": "d7d5f729",
   "metadata": {},
   "source": [
    "### <u>Distribution of Intensity levels</u>"
   ]
  },
  {
   "cell_type": "code",
   "execution_count": 75,
   "id": "b4fccc9e",
   "metadata": {},
   "outputs": [
    {
     "name": "stderr",
     "output_type": "stream",
     "text": [
      "`stat_bin()` using `bins = 30`. Pick better value with `binwidth`.\n"
     ]
    },
    {
     "data": {
      "image/png": "[encoded data removed]",
      "text/plain": [
       "plot without title"
      ]
     },
     "metadata": {},
     "output_type": "display_data"
    }
   ],
   "source": [
    "ggplot(data=merge_sleep_activity, aes(LightlyActiveMinutes)) + \n",
    "  geom_histogram() + labs(title=\"Distribution of Lightly Active Minutes\")"
   ]
  },
  {
   "cell_type": "code",
   "execution_count": 76,
   "id": "4d72cfff",
   "metadata": {},
   "outputs": [
    {
     "name": "stderr",
     "output_type": "stream",
     "text": [
      "`stat_bin()` using `bins = 30`. Pick better value with `binwidth`.\n"
     ]
    },
    {
     "data": {
      "image/png": "[encoded data removed]",
      "text/plain": [
       "plot without title"
      ]
     },
     "metadata": {},
     "output_type": "display_data"
    }
   ],
   "source": [
    "ggplot(data=merge_sleep_activity, aes(FairlyActiveMinutes)) + \n",
    "  geom_histogram() + labs(title=\"Distribution of FairlyActiveMinutes\")"
   ]
  },
  {
   "cell_type": "code",
   "execution_count": 77,
   "id": "51c12a83",
   "metadata": {},
   "outputs": [
    {
     "name": "stderr",
     "output_type": "stream",
     "text": [
      "`stat_bin()` using `bins = 30`. Pick better value with `binwidth`.\n"
     ]
    },
    {
     "data": {
      "image/png": "[encoded data removed]",
      "text/plain": [
       "plot without title"
      ]
     },
     "metadata": {},
     "output_type": "display_data"
    }
   ],
   "source": [
    "ggplot(data=merge_sleep_activity, aes(VeryActiveMinutes)) + \n",
    "  geom_histogram() + labs(title=\"Distribution of VeryActiveMinutes\")"
   ]
  },
  {
   "cell_type": "markdown",
   "id": "a37480db",
   "metadata": {},
   "source": [
    "### Insights: Majority of users are lightly active, hence this clearly states that the majority of customers belong to casual users"
   ]
  },
  {
   "cell_type": "markdown",
   "id": "6e500ba6",
   "metadata": {},
   "source": [
    "### <u>Distribution of Sedentary Minutes</u>"
   ]
  },
  {
   "cell_type": "code",
   "execution_count": 78,
   "id": "177c861b",
   "metadata": {},
   "outputs": [
    {
     "name": "stderr",
     "output_type": "stream",
     "text": [
      "`stat_bin()` using `bins = 30`. Pick better value with `binwidth`.\n"
     ]
    },
    {
     "data": {
      "image/png": "[encoded data removed]",
      "text/plain": [
       "plot without title"
      ]
     },
     "metadata": {},
     "output_type": "display_data"
    }
   ],
   "source": [
    "ggplot(data=merge_sleep_activity, aes(SedentaryMinutes)) + \n",
    "  geom_histogram() + labs(title=\"Distribution of SedentaryMinutes\")"
   ]
  },
  {
   "cell_type": "markdown",
   "id": "dc59ed2d",
   "metadata": {},
   "source": [
    "### Insights: Majority of users have high sedentary minutes level, hence there is a need to reduce this levels based on the healthy recommendation"
   ]
  },
  {
   "cell_type": "markdown",
   "id": "0d7ae96b",
   "metadata": {},
   "source": [
    "### <u>Distribution of Avg Total Intensity vs Time</u>"
   ]
  },
  {
   "cell_type": "code",
   "execution_count": 79,
   "id": "763cc329",
   "metadata": {},
   "outputs": [
    {
     "name": "stderr",
     "output_type": "stream",
     "text": [
      "Warning message:\n",
      "\"Ignoring unknown parameters: binwidth, bins, pad\""
     ]
    },
    {
     "data": {
      "image/png": "[encoded data removed]",
      "text/plain": [
       "plot without title"
      ]
     },
     "metadata": {},
     "output_type": "display_data"
    }
   ],
   "source": [
    "intensity_new <- hourly_intensity %>%\n",
    "  group_by(time) %>%\n",
    "  drop_na() %>%\n",
    "  summarise(mean_total_int = mean(TotalIntensity))\n",
    "\n",
    "ggplot(data=intensity_new, aes(x=time, y=mean_total_int)) + geom_histogram(stat = \"identity\") +\n",
    "  theme(axis.text.x = element_text(angle = 90)) +\n",
    "  labs(title=\"Average Total Intensity vs. Time\")"
   ]
  },
  {
   "cell_type": "markdown",
   "id": "ab8f366a",
   "metadata": {},
   "source": [
    "### Insights: From the histogram above, people are the most active during the timings 5pm to 7pm. Hence a notification to recommend people to go for some light activity would be highly effective"
   ]
  },
  {
   "cell_type": "markdown",
   "id": "c5583268",
   "metadata": {},
   "source": [
    "# Final Phase - Summarise the findings the provide data-driven recommendations"
   ]
  },
  {
   "cell_type": "markdown",
   "id": "5f719c39",
   "metadata": {},
   "source": [
    "## Based on the data analyzed, I come up with these recommendations\n",
    "### <li> Implement a notification system to Remind and Recommend users to go for some light activity during the timings between 5pm to 7pm as that is timing where majority of people are active </li>\n",
    "### <li>Majority of users are lightly active, hence targeting more towards the casual fitness demographic may bring in more sales</li>\n",
    "### <li>Since the time asleep and time on the bed has minor discrepancies, Bellabeat can implement a notification system for users to improve their sleep habits</li>\n",
    "### <li>Sedentary Minutes for majority of users are excessive, Bellabeat can recommend users to reduce this by providing notifications to stay active and maybe include bits of pop ups about why high sedentary minutes in life is not good</li>\n",
    "### <li>The steps per day is relatively below the healthy recommendations. Bellabeat can use a notification system that informs user to increase their steps for the day if it is not within the appropriate threshold</li>"
   ]
  },
  {
   "cell_type": "code",
   "execution_count": null,
   "id": "f01d142d",
   "metadata": {},
   "outputs": [],
   "source": []
  }
 ],
 "metadata": {
  "kernelspec": {
   "display_name": "R",
   "language": "R",
   "name": "ir"
  },
  "language_info": {
   "codemirror_mode": "r",
   "file_extension": ".r",
   "mimetype": "text/x-r-source",
   "name": "R",
   "pygments_lexer": "r",
   "version": "3.6.1"
  }
 },
 "nbformat": 4,
 "nbformat_minor": 5
}
